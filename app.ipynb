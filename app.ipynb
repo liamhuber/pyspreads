{
 "cells": [
  {
   "cell_type": "code",
   "execution_count": 1,
   "id": "acb1de9e-60df-4db4-8981-fe4f850b7863",
   "metadata": {
    "scrolled": false
   },
   "outputs": [
    {
     "data": {
      "application/vnd.jupyter.widget-view+json": {
       "model_id": "9f371910fffc43aab35c1956a8c66797",
       "version_major": 2,
       "version_minor": 0
      },
      "text/plain": [
       "Tab(children=(HBox(children=(VBox(children=(HBox(children=(Label(value='Call Bid', layout=Layout(justify_conte…"
      ]
     },
     "metadata": {},
     "output_type": "display_data"
    }
   ],
   "source": [
    "%matplotlib agg\n",
    "from pyspreads import VerticalGUI\n",
    "gui = VerticalGUI(smoothing_window=7)\n",
    "gui.draw()"
   ]
  },
  {
   "cell_type": "code",
   "execution_count": null,
   "id": "b7049d14",
   "metadata": {},
   "outputs": [],
   "source": []
  }
 ],
 "metadata": {
  "kernelspec": {
   "display_name": "Python 3 (ipykernel)",
   "language": "python",
   "name": "python3"
  },
  "language_info": {
   "codemirror_mode": {
    "name": "ipython",
    "version": 3
   },
   "file_extension": ".py",
   "mimetype": "text/x-python",
   "name": "python",
   "nbconvert_exporter": "python",
   "pygments_lexer": "ipython3",
   "version": "3.10.6"
  }
 },
 "nbformat": 4,
 "nbformat_minor": 5
}
