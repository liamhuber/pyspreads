{
 "cells": [
  {
   "cell_type": "code",
   "execution_count": 2,
   "id": "acb1de9e-60df-4db4-8981-fe4f850b7863",
   "metadata": {
    "scrolled": false
   },
   "outputs": [
    {
     "data": {
      "application/vnd.jupyter.widget-view+json": {
       "model_id": "a26420f0208540419e18c07824142756",
       "version_major": 2,
       "version_minor": 0
      },
      "text/plain": [
       "Tab(children=(HBox(children=(VBox(children=(HBox(children=(Label(value='Call Bid', layout=Layout(justify_conte…"
      ]
     },
     "metadata": {},
     "output_type": "display_data"
    }
   ],
   "source": [
    "%matplotlib agg\n",
    "from pyspreads import VerticalGUI\n",
    "gui = VerticalGUI(smoothing_window=5)\n",
    "gui.draw()"
   ]
  },
  {
   "cell_type": "code",
   "execution_count": null,
   "id": "766964dd",
   "metadata": {},
   "outputs": [],
   "source": []
  }
 ],
 "metadata": {
  "kernelspec": {
   "display_name": "Python 3 (ipykernel)",
   "language": "python",
   "name": "python3"
  },
  "language_info": {
   "codemirror_mode": {
    "name": "ipython",
    "version": 3
   },
   "file_extension": ".py",
   "mimetype": "text/x-python",
   "name": "python",
   "nbconvert_exporter": "python",
   "pygments_lexer": "ipython3",
   "version": "3.10.6"
  }
 },
 "nbformat": 4,
 "nbformat_minor": 5
}
