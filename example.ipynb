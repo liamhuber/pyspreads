{
 "cells": [
  {
   "cell_type": "code",
   "execution_count": 1,
   "id": "acb1de9e-60df-4db4-8981-fe4f850b7863",
   "metadata": {},
   "outputs": [],
   "source": [
    "%matplotlib agg\n",
    "from pyspreads import VerticalGUI"
   ]
  },
  {
   "cell_type": "code",
   "execution_count": 2,
   "id": "65404dd5-f000-43a9-92e0-3cfa6e095182",
   "metadata": {},
   "outputs": [],
   "source": [
    "gui = VerticalGUI()"
   ]
  },
  {
   "cell_type": "code",
   "execution_count": null,
   "id": "1b1942bb-e8e8-4386-8f9c-049356276c11",
   "metadata": {},
   "outputs": [],
   "source": [
    "gui.draw()"
   ]
  },
  {
   "cell_type": "code",
   "execution_count": null,
   "id": "f73d9ffa-0e78-4c2f-9096-388f81afb2cd",
   "metadata": {},
   "outputs": [],
   "source": []
  }
 ],
 "metadata": {
  "kernelspec": {
   "display_name": "Python 3 (ipykernel)",
   "language": "python",
   "name": "python3"
  },
  "language_info": {
   "codemirror_mode": {
    "name": "ipython",
    "version": 3
   },
   "file_extension": ".py",
   "mimetype": "text/x-python",
   "name": "python",
   "nbconvert_exporter": "python",
   "pygments_lexer": "ipython3",
   "version": "3.10.6"
  }
 },
 "nbformat": 4,
 "nbformat_minor": 5
}
