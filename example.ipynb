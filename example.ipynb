{
 "cells": [
  {
   "cell_type": "code",
   "execution_count": 3,
   "id": "acb1de9e-60df-4db4-8981-fe4f850b7863",
   "metadata": {},
   "outputs": [
    {
     "data": {
      "application/vnd.jupyter.widget-view+json": {
       "model_id": "14df772373014160943463834619ad9d",
       "version_major": 2,
       "version_minor": 0
      },
      "text/plain": [
       "Tab(children=(HBox(children=(VBox(children=(HBox(children=(Label(value='Call Bid', layout=Layout(justify_conte…"
      ]
     },
     "metadata": {},
     "output_type": "display_data"
    }
   ],
   "source": [
    "%matplotlib agg\n",
    "from pyspreads import VerticalGUI\n",
    "gui = VerticalGUI()\n",
    "gui.draw()"
   ]
  },
  {
   "cell_type": "code",
   "execution_count": 1,
   "id": "8c351922",
   "metadata": {},
   "outputs": [],
   "source": [
    "from pyspreads.gui.data import Loader"
   ]
  },
  {
   "cell_type": "code",
   "execution_count": 2,
   "id": "b61cc93d",
   "metadata": {},
   "outputs": [
    {
     "data": {
      "application/vnd.jupyter.widget-view+json": {
       "model_id": "9699783c7c7349d083d70db742b9998c",
       "version_major": 2,
       "version_minor": 0
      },
      "text/plain": [
       "HBox(children=(VBox(children=(FloatText(value=0.0, description='Asset price', layout=Layout(width='190px'), st…"
      ]
     },
     "metadata": {},
     "output_type": "display_data"
    }
   ],
   "source": [
    "Loader(None).widget"
   ]
  },
  {
   "cell_type": "code",
   "execution_count": 4,
   "id": "2927a29e",
   "metadata": {},
   "outputs": [],
   "source": [
    "import ipywidgets as widgets"
   ]
  },
  {
   "cell_type": "code",
   "execution_count": 11,
   "id": "4530986d",
   "metadata": {},
   "outputs": [
    {
     "data": {
      "application/vnd.jupyter.widget-view+json": {
       "model_id": "70a8151abd0c439c8201d341a4e7fa42",
       "version_major": 2,
       "version_minor": 0
      },
      "text/plain": [
       "HBox(children=(FloatText(value=0.0), FloatText(value=0.0)), layout=Layout(width='600px'))"
      ]
     },
     "metadata": {},
     "output_type": "display_data"
    }
   ],
   "source": [
    "f = widgets.FloatText(width='100%')\n",
    "g = widgets.FloatText(width='100%')\n",
    "widgets.HBox([f, g], layout=widgets.Layout(width='600px'))"
   ]
  },
  {
   "cell_type": "code",
   "execution_count": 17,
   "id": "9f6ccb5a",
   "metadata": {},
   "outputs": [
    {
     "data": {
      "application/vnd.jupyter.widget-view+json": {
       "model_id": "5badc97dfb294048a4fb2d9c23dd3991",
       "version_major": 2,
       "version_minor": 0
      },
      "text/plain": [
       "IntText(value=2, description='Call ask col', layout=Layout(width='150px'), style=DescriptionStyle(description_…"
      ]
     },
     "metadata": {},
     "output_type": "display_data"
    }
   ],
   "source": [
    "inttext_kwargs = {\n",
    "    'style': \n",
    "    'layout': widgets.Layout(width='150px')\n",
    "}\n",
    "it = widgets.IntText(\n",
    "    description=\"Call ask col\", \n",
    "    value=2,\n",
    "    **inttext_kwargs\n",
    ")\n",
    "it"
   ]
  },
  {
   "cell_type": "code",
   "execution_count": 6,
   "id": "abf25a28",
   "metadata": {},
   "outputs": [
    {
     "data": {
      "text/plain": [
       "['_model_module',\n",
       " '_model_module_version',\n",
       " '_model_name',\n",
       " '_view_count',\n",
       " '_view_module',\n",
       " '_view_module_version',\n",
       " '_view_name',\n",
       " 'description_width']"
      ]
     },
     "execution_count": 6,
     "metadata": {},
     "output_type": "execute_result"
    }
   ],
   "source": [
    "it.style.keys"
   ]
  },
  {
   "cell_type": "code",
   "execution_count": null,
   "id": "391f63be",
   "metadata": {},
   "outputs": [],
   "source": []
  }
 ],
 "metadata": {
  "kernelspec": {
   "display_name": "Python 3 (ipykernel)",
   "language": "python",
   "name": "python3"
  },
  "language_info": {
   "codemirror_mode": {
    "name": "ipython",
    "version": 3
   },
   "file_extension": ".py",
   "mimetype": "text/x-python",
   "name": "python",
   "nbconvert_exporter": "python",
   "pygments_lexer": "ipython3",
   "version": "3.10.6"
  }
 },
 "nbformat": 4,
 "nbformat_minor": 5
}
