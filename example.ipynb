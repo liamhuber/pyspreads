{
 "cells": [
  {
   "cell_type": "code",
   "execution_count": 1,
   "id": "acb1de9e-60df-4db4-8981-fe4f850b7863",
   "metadata": {},
   "outputs": [],
   "source": [
    "%matplotlib agg\n",
    "from pyspreads import VerticalGUI"
   ]
  },
  {
   "cell_type": "code",
   "execution_count": 2,
   "id": "65404dd5-f000-43a9-92e0-3cfa6e095182",
   "metadata": {},
   "outputs": [],
   "source": [
    "gui = VerticalGUI()"
   ]
  },
  {
   "cell_type": "code",
   "execution_count": 3,
   "id": "1b1942bb-e8e8-4386-8f9c-049356276c11",
   "metadata": {},
   "outputs": [
    {
     "data": {
      "application/vnd.jupyter.widget-view+json": {
       "model_id": "4e9956b4b80a4105b82c491461586879",
       "version_major": 2,
       "version_minor": 0
      },
      "text/plain": [
       "Tab(children=(HBox(children=(VBox(children=(HBox(children=(Label(value='Call Bid', layout=Layout(justify_conte…"
      ]
     },
     "execution_count": 3,
     "metadata": {},
     "output_type": "execute_result"
    }
   ],
   "source": [
    "gui.draw()"
   ]
  },
  {
   "cell_type": "code",
   "execution_count": 4,
   "id": "f73d9ffa-0e78-4c2f-9096-388f81afb2cd",
   "metadata": {},
   "outputs": [],
   "source": [
    "from ipywidgets import Label"
   ]
  },
  {
   "cell_type": "code",
   "execution_count": 5,
   "id": "9b0a19cb-4d62-4441-83b5-05764229a7b7",
   "metadata": {},
   "outputs": [],
   "source": [
    "l = Label(\"foo\")"
   ]
  },
  {
   "cell_type": "code",
   "execution_count": 8,
   "id": "1ddb6d03-79ae-4026-a97a-51860a2d7f2c",
   "metadata": {},
   "outputs": [
    {
     "data": {
      "application/vnd.jupyter.widget-view+json": {
       "model_id": "c11c88cbf64d4350b5c8ca7c5dc09a1b",
       "version_major": 2,
       "version_minor": 0
      },
      "text/plain": [
       "Label(value='bar', description='bar')"
      ]
     },
     "execution_count": 8,
     "metadata": {},
     "output_type": "execute_result"
    }
   ],
   "source": [
    "l.value = \"bar\"\n",
    "l"
   ]
  },
  {
   "cell_type": "code",
   "execution_count": null,
   "id": "6dd72fde-0aa1-42f9-a5dc-d5078374adaf",
   "metadata": {},
   "outputs": [],
   "source": []
  }
 ],
 "metadata": {
  "kernelspec": {
   "display_name": "Python 3 (ipykernel)",
   "language": "python",
   "name": "python3"
  },
  "language_info": {
   "codemirror_mode": {
    "name": "ipython",
    "version": 3
   },
   "file_extension": ".py",
   "mimetype": "text/x-python",
   "name": "python",
   "nbconvert_exporter": "python",
   "pygments_lexer": "ipython3",
   "version": "3.10.6"
  }
 },
 "nbformat": 4,
 "nbformat_minor": 5
}
